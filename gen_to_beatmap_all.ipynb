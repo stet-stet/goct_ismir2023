{
 "cells": [
  {
   "cell_type": "code",
   "execution_count": 5,
   "metadata": {},
   "outputs": [],
   "source": [
    "import os \n",
    "import matplotlib.pyplot as plt\n",
    "import re\n",
    "import shutil\n",
    "import numpy as np\n",
    "import tqdm as tqdm\n",
    "import json\n",
    "import soundfile as sf\n",
    "from pprint import pprint\n",
    "\n",
    "gen_file = \"generated/mel_no_pretrain_epoch10.log\"\n",
    "test_json = \"OSUFOLDER/test.json\"\n",
    "# since shuffling was not done, order is same.\n",
    "\n",
    "with open(test_json) as file:\n",
    "    test_json = json.load(file)"
   ]
  },
  {
   "cell_type": "code",
   "execution_count": null,
   "metadata": {},
   "outputs": [],
   "source": [
    "def group_lines(lines):\n",
    "    ret = []\n",
    "    for line in lines:\n",
    "        if '[INFO]' in line:\n",
    "            ret.append(line.replace(\"\\n\",''))\n",
    "        else:\n",
    "            ret[-1] += f\" {line.strip()}\"\n",
    "    return ret\n",
    "\n",
    "def group_charts(lines, test_json):\n",
    "    ret = []\n",
    "    osujson_fn, osujson_idx = [], 0\n",
    "    past = 0\n",
    "    for n,line in enumerate(lines):\n",
    "        if \"precision\" in line and \"recall\" in line and \"f1\" in line:\n",
    "            grouped_lines = group_lines(lines[past:n+1])\n",
    "            if len(grouped_lines) == 0: continue \n",
    "            ret.append(grouped_lines)\n",
    "            osujson_fn.append(test_json[osujson_idx].replace(\".osu.json\",\".osu\"))\n",
    "            past = n+1\n",
    "            osujson_idx += 1\n",
    "    return ret, osujson_fn\n",
    "\n",
    "def get_lines_from_file(fn):\n",
    "    with open(fn) as file:\n",
    "        return file.readlines()\n",
    "\n",
    "lines = get_lines_from_file(gen_file)\n",
    "charts, osujson_fn = group_charts(lines[2:-1], list(test_json.keys()))\n",
    "charts[-1]\n",
    "osujson_fn[-1]"
   ]
  },
  {
   "cell_type": "code",
   "execution_count": 13,
   "metadata": {},
   "outputs": [],
   "source": [
    "# copy folders from 2026_ddc_rere directory.\n",
    "dest = \"demo\"\n",
    "os.makedirs(dest,exist_ok=True)\n",
    "dirs = list(set([os.path.dirname(fn) for fn in osujson_fn]))\n",
    "dests = [os.path.join(dest,d.split('/')[-1]) for d in dirs]\n",
    "for copyfrom, copyto in zip(dirs, dests):\n",
    "    shutil.copytree(copyfrom, copyto, dirs_exist_ok=True)"
   ]
  },
  {
   "cell_type": "code",
   "execution_count": null,
   "metadata": {},
   "outputs": [],
   "source": [
    "osujson_fn = [e.replace(\"OSUFOLDER\",dest) for e in osujson_fn]\n",
    "osujson_fn\n",
    "# Anyways, \n",
    "# these are the files we wish to generates demos on."
   ]
  },
  {
   "cell_type": "markdown",
   "metadata": {},
   "source": [
    "now, for each .osu file, we will try to output a demo file"
   ]
  },
  {
   "cell_type": "code",
   "execution_count": 15,
   "metadata": {},
   "outputs": [
    {
     "data": {
      "text/plain": [
       "'0100'"
      ]
     },
     "execution_count": 15,
     "metadata": {},
     "output_type": "execute_result"
    }
   ],
   "source": [
    "def action_token_to_actions(num):\n",
    "    ret=0\n",
    "    num-=96\n",
    "    for i in range(4):\n",
    "        ret *= 10\n",
    "        ret += num%3\n",
    "        num //=3\n",
    "    return str(ret).zfill(4)\n",
    "\n",
    "action_token_to_actions(99)\n"
   ]
  },
  {
   "cell_type": "code",
   "execution_count": 16,
   "metadata": {},
   "outputs": [],
   "source": [
    "def refine_chart_lines(chart):\n",
    "    chart = [e.split('\\t\\ttensor(')[-1].replace(\", device='cuda:0')\",'').strip() for e in chart]\n",
    "    chart = [(\"[[]]\" if e.startswith('[]') else e)for e in chart]\n",
    "    chart = [e.replace('[[','').replace(']]','') for e in chart]\n",
    "    chart = [([int(ee) for ee in e.split(',')] if len(e)>0 else []) for e in chart[1:-1]]\n",
    "    return chart\n",
    "    \n",
    "def chart_to_notes(chart):\n",
    "    notes = []\n",
    "    index_of_holdnotes = [-1,-1,-1,-1]\n",
    "    chart = refine_chart_lines(chart)\n",
    "    base_beat = 2\n",
    "    beat_phase, channel = 0, \"0000\"\n",
    "    for two_beat_segment in chart:\n",
    "        for token in two_beat_segment:\n",
    "            if token<96: beat_phase = token\n",
    "            else: \n",
    "                channel = action_token_to_actions(token)\n",
    "                for n, (flag, holdindex) in enumerate(zip(channel, index_of_holdnotes)):\n",
    "                    if flag != '0' and holdindex >=0:\n",
    "                        notes[holdindex]['end'] = base_beat + beat_phase/48\n",
    "                        notes[holdindex]['isHold'] = True\n",
    "                        index_of_holdnotes[n] = -1\n",
    "                        continue # no more notes can be written\n",
    "                    if flag == '2':\n",
    "                        index_of_holdnotes[n] = len(notes)\n",
    "                    if flag != '0':\n",
    "                        notes.append({\n",
    "                            'time':base_beat+beat_phase/48,\n",
    "                            'line':n,\n",
    "                            'isHold':False, #edited later if hold\n",
    "                            'end':base_beat+beat_phase/48, #edited later if hold\n",
    "                        })\n",
    "                    \n",
    "        base_beat += 2\n",
    "    return notes"
   ]
  },
  {
   "cell_type": "code",
   "execution_count": 17,
   "metadata": {},
   "outputs": [],
   "source": [
    "def osu_file_by_metadata(filename):\n",
    "    if not filename.endswith(\".osu\"):\n",
    "        raise ValueError(\"file provided is not .osu chart file\")\n",
    "    with open(filename,'r') as file:\n",
    "        lines = file.readlines()\n",
    "    ret, lines = [lines[0]], lines[1:]\n",
    "    while len(lines[0]) == 0:\n",
    "        lines = lines[1:]\n",
    "    \n",
    "    lines = \"\".join(lines)\n",
    "    metadatas = lines.split('[')[1:]\n",
    "    metadatas = ['[' + lines for lines in metadatas]\n",
    "    return ret + metadatas\n",
    "\n",
    "policy_for_metadata_fields = {\n",
    "    \"osu file format v14\": \"copy\",\n",
    "    \"[General]\": \"copy\",\n",
    "    \"[Editor]\": \"copy\",\n",
    "    \"[Metadata]\": \"copy\",\n",
    "    \"[Difficulty]\": \"copy\",\n",
    "    \"[Events]\": \"copy\",\n",
    "    \"[TimingPoints]\": \"copy\",\n",
    "    \"[HitObjects]\": \"make\",\n",
    "}\n",
    "\n",
    "def notes_to_hitobjects(notes, osu):\n",
    "    osujson = f\"{osu}.json\"\n",
    "    beatjson = f\"{osu}.json.beat.json\"\n",
    "    with open(osujson) as file: offset = json.load(file)['offset']\n",
    "    with open(beatjson) as file: beatjson = json.load(file)[\"beat_to_sample_map\"]\n",
    "    audiofilename = getAttribute(osu, \"AudioFilename\")\n",
    "    _,sr = sf.read(os.path.join(os.path.dirname(osu),audiofilename))\n",
    "\n",
    "    linemap = {0:64, 1:192, 2:320, 3:448}\n",
    "    y = 192\n",
    "    ret = []\n",
    "    for note in notes:\n",
    "        time = round( (beatjson[round(note['time']*48)][1] * 1000/ sr) + offset )\n",
    "        end = round( (beatjson[round(note['end']*48)][1] * 1000/ sr) + offset )\n",
    "        if note['isHold']:\n",
    "            ret.append(f\"{linemap[note['line']]},192,{time},128,0,{end}:0:0:0:0:\")\n",
    "        else: # not hold\n",
    "            ret.append(f\"{linemap[note['line']]},192,{time},1,0,0:0:0:0:\")\n",
    "\n",
    "    return ret\n"
   ]
  },
  {
   "cell_type": "code",
   "execution_count": 18,
   "metadata": {},
   "outputs": [],
   "source": [
    "def generate_osu(notes, osu, output_file):\n",
    "    osufile_contents = osu_file_by_metadata(osu) \n",
    "    for n,content in enumerate(osufile_contents):\n",
    "        for k in policy_for_metadata_fields:\n",
    "            if k in content and policy_for_metadata_fields[k] == 'copy':\n",
    "                pass #leave it be\n",
    "            elif k in content:\n",
    "                hitobjects = '\\n'.join(notes_to_hitobjects(notes, osu))\n",
    "                osufile_contents[n] = f\"{k}\\n{hitobjects}\"\n",
    "\n",
    "    with open(output_file,'w') as file:\n",
    "        for content in osufile_contents:\n",
    "            file.write(content)\n",
    "            file.write('\\n')"
   ]
  },
  {
   "cell_type": "code",
   "execution_count": 19,
   "metadata": {},
   "outputs": [],
   "source": [
    "def writeAttribute(filename, attribute, value):\n",
    "    if not filename.endswith(\".osu\"):\n",
    "        raise ZeroDivisionError\n",
    "    with open(filename,'r') as file:\n",
    "        lines = [e.strip() for e in file.readlines()]\n",
    "    for n,line in enumerate(lines):\n",
    "        if line.startswith(f\"{attribute}:\"):\n",
    "            lines[n] = f\"{attribute}: {value}\"\n",
    "    with open(filename,'w') as file:\n",
    "        for line in lines:\n",
    "            file.write(line)\n",
    "            file.write('\\n')\n",
    "\n",
    "def getAttribute(filename, attribute):\n",
    "    if not filename.endswith(\".osu\"):\n",
    "        raise ValueError(\"file provided is not .osu chart file\")\n",
    "    with open(filename,'r') as file:\n",
    "        lines = file.readlines()\n",
    "    ret = \"\"\n",
    "    for line in lines: \n",
    "        if line.startswith(f\"{attribute}:\"):\n",
    "            ret = line.replace(f\"{attribute}:\",'').strip()\n",
    "    return ret            "
   ]
  },
  {
   "cell_type": "code",
   "execution_count": null,
   "metadata": {},
   "outputs": [],
   "source": [
    "idx = 0\n",
    "for chart, osu in tqdm.tqdm(zip(charts,osujson_fn)):\n",
    "    notes = chart_to_notes(chart)\n",
    "    output_file = os.path.join(os.path.dirname(osu),f\"{idx}.osu\")\n",
    "    generate_osu(notes, osu, output_file)\n",
    "    writeAttribute(output_file, \"Creator\", \"goctai\")\n",
    "    writeAttribute(output_file, \"Version\", f\"AI-GEN-{idx}\")\n",
    "    idx += 1\n"
   ]
  },
  {
   "cell_type": "code",
   "execution_count": null,
   "metadata": {},
   "outputs": [],
   "source": [
    "len(osujson_fn)\n",
    "osujson_fn[-1]"
   ]
  },
  {
   "cell_type": "code",
   "execution_count": 33,
   "metadata": {},
   "outputs": [],
   "source": [
    "# make a credits text file\n",
    "\n",
    "credits_path = \"demo/__credits.txt\"\n",
    "\n",
    "content = [\"\"\"\n",
    "Each .osz file only carries the bare minimum of files (not including artwork or any non-default hitsounds).\n",
    "\n",
    "The non-note portions of this beatmap were taken from existing beatmaps.\n",
    "These include all metadata portions of the original beatmap except for the [HitObject] section.\n",
    "\n",
    "This file lists the source for each, along with the intended target difficulties fed to the AI.\n",
    "\n",
    "\"\"\"]\n",
    "\n",
    "def get_targetdiff(osujson):\n",
    "    with open(osujson) as file:\n",
    "        d = json.load(file)\n",
    "    return float(d['charts'][0]['difficulty_fine'])\n",
    "\n",
    "for i, source in enumerate(osujson_fn): \n",
    "    content.append(f\"{i}.osz \\t <- {source.replace('demo/','')}; target diff was {get_targetdiff(source+'.json')}\")\n",
    "\n",
    "content = \"\\n\".join(content)\n",
    "with open(credits_path, 'w') as file:\n",
    "    file.write(content)\n"
   ]
  },
  {
   "cell_type": "code",
   "execution_count": null,
   "metadata": {},
   "outputs": [],
   "source": [
    "print(osujson_fn)"
   ]
  },
  {
   "cell_type": "code",
   "execution_count": 27,
   "metadata": {},
   "outputs": [],
   "source": [
    "# wipe all original beatmaps\n",
    "for source in osujson_fn:\n",
    "    os.remove(source)"
   ]
  },
  {
   "cell_type": "code",
   "execution_count": 34,
   "metadata": {},
   "outputs": [],
   "source": [
    "# wipe .osu.json and .osu.json.beat.json files\n",
    "for root, dirs, files in os.walk('demo'):\n",
    "    for file in files:\n",
    "        if file.endswith(\".json\"):\n",
    "            os.remove(os.path.join(root, file))"
   ]
  },
  {
   "cell_type": "code",
   "execution_count": 35,
   "metadata": {},
   "outputs": [],
   "source": [
    "# move .zip to .osz\n",
    "for root, dirs, files in os.walk('demo'):\n",
    "    for file in files:\n",
    "        if file.endswith(\".zip\"):\n",
    "            source = os.path.join(root,file)\n",
    "            dest = os.path.join(root,file[:-4]+\".osz\")\n",
    "            os.rename(source,dest)"
   ]
  },
  {
   "cell_type": "code",
   "execution_count": 45,
   "metadata": {},
   "outputs": [
    {
     "data": {
      "text/plain": [
       "'UNDERVEIL IS REAL!!!'"
      ]
     },
     "execution_count": 45,
     "metadata": {},
     "output_type": "execute_result"
    }
   ],
   "source": [
    "# let's test with single file first.\n",
    "\n",
    "\n",
    "\n",
    "getAttribute(\"demo/984247/AAAA + Silentroom - UNDERVEIL IS REAL!!! (angki) [ANGKI IS REAL!!!].osu\",\"Title\")"
   ]
  },
  {
   "cell_type": "code",
   "execution_count": null,
   "metadata": {},
   "outputs": [],
   "source": [
    "\n",
    "\n",
    "\n",
    "\n",
    "\n",
    "\n",
    "osu_file_by_metadata(\"demo/984247/AAAA + Silentroom - UNDERVEIL IS REAL!!! (angki) [ANGKI IS REAL!!!].osu\")"
   ]
  },
  {
   "cell_type": "code",
   "execution_count": 47,
   "metadata": {},
   "outputs": [
    {
     "data": {
      "text/plain": [
       "[[], [], [], [], [], [], [], [], [48, 98], [0, 133, 48, 99, 72, 105]]"
      ]
     },
     "execution_count": 47,
     "metadata": {},
     "output_type": "execute_result"
    }
   ],
   "source": [
    "# notes should be organized to have hold-times for each note\n",
    "\n",
    "\n",
    "refine_chart_lines(charts[-1])[:10]"
   ]
  },
  {
   "cell_type": "code",
   "execution_count": 48,
   "metadata": {},
   "outputs": [],
   "source": [
    "# taps: x,y,time,type,hitSound,objectParams,hitSample\n",
    "# holds: x,y,time,type,hitSound,endTime:hitSample\n",
    "# type is 0 for tap, 128 for hold\n",
    "\n",
    "# example hold  448,192,19047,128,2,19214:0:0:0:0:\n",
    "# example tap   64,192,17880,1,0,0:0:0:0:\n",
    "notes = [] # sorted by time\n",
    "# each note : { time in beats, line, isHold, hold end (to be filled in later) }\n"
   ]
  },
  {
   "cell_type": "code",
   "execution_count": 49,
   "metadata": {},
   "outputs": [],
   "source": [
    "# translates notes to osu hitobjects\n",
    "\n"
   ]
  },
  {
   "cell_type": "code",
   "execution_count": 50,
   "metadata": {},
   "outputs": [],
   "source": [
    "output_file = \"demo/984247/test.osu\"\n",
    "\n",
    "policy_for_metadata_fields = {\n",
    "    \"osu file format v14\": \"copy\",\n",
    "    \"[General]\": \"copy\",\n",
    "    \"[Editor]\": \"copy\",\n",
    "    \"[Metadata]\": \"copy\",\n",
    "    \"[Difficulty]\": \"copy\",\n",
    "    \"[Events]\": \"copy\",\n",
    "    \"[TimingPoints]\": \"copy\",\n",
    "    \"[HitObjects]\": notes_to_hitobjects,\n",
    "}\n",
    "\n",
    "osu = \"demo/984247/AAAA + Silentroom - UNDERVEIL IS REAL!!! (angki) [ANGKI IS REAL!!!].osu\"\n",
    "osufile_contents = osu_file_by_metadata(osu)\n",
    "\n"
   ]
  }
 ],
 "metadata": {
  "kernelspec": {
   "display_name": "bms",
   "language": "python",
   "name": "python3"
  },
  "language_info": {
   "codemirror_mode": {
    "name": "ipython",
    "version": 3
   },
   "file_extension": ".py",
   "mimetype": "text/x-python",
   "name": "python",
   "nbconvert_exporter": "python",
   "pygments_lexer": "ipython3",
   "version": "3.9.16"
  }
 },
 "nbformat": 4,
 "nbformat_minor": 2
}
